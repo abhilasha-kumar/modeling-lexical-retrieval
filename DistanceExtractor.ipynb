{
  "nbformat": 4,
  "nbformat_minor": 0,
  "metadata": {
    "colab": {
      "name": "DistanceExtractor.ipynb",
      "provenance": [],
      "collapsed_sections": [],
      "include_colab_link": true
    },
    "kernelspec": {
      "name": "python3",
      "display_name": "Python 3"
    },
    "language_info": {
      "name": "python"
    }
  },
  "cells": [
    {
      "cell_type": "markdown",
      "metadata": {
        "id": "view-in-github",
        "colab_type": "text"
      },
      "source": [
        "<a href=\"https://colab.research.google.com/github/abhilasha-kumar/modeling-lexical-retrieval/blob/main/DistanceExtractor.ipynb\" target=\"_parent\"><img src=\"https://colab.research.google.com/assets/colab-badge.svg\" alt=\"Open In Colab\"/></a>"
      ]
    },
    {
      "cell_type": "markdown",
      "metadata": {
        "id": "NQe2vQgrvJvJ"
      },
      "source": [
        "## Code Snippet for measuring network distances over single-layer and multiplex networks\n"
      ]
    },
    {
      "cell_type": "code",
      "metadata": {
        "id": "gECx59y3jPBb"
      },
      "source": [
        "import networkx as nx"
      ],
      "execution_count": 2,
      "outputs": []
    },
    {
      "cell_type": "markdown",
      "metadata": {
        "id": "-tfl1iNxvTvI"
      },
      "source": [
        "Down below we import two txt files containing only edge lists (note: You have to drag and drop files on Colab in the File subwindow each time you activate a runup). I used these edge lists for convenience but we should change them to the ones filtered/weighted appropriately."
      ]
    },
    {
      "cell_type": "code",
      "metadata": {
        "colab": {
          "base_uri": "https://localhost:8080/"
        },
        "id": "wh8cON0XPVnF",
        "outputId": "a73ccca8-a245-4417-aaee-dd5388fc7c36"
      },
      "source": [
        "from google.colab import drive\n",
        "drive.mount('/content/drive')"
      ],
      "execution_count": 3,
      "outputs": [
        {
          "output_type": "stream",
          "name": "stdout",
          "text": [
            "Mounted at /content/drive\n"
          ]
        }
      ]
    },
    {
      "cell_type": "code",
      "metadata": {
        "id": "ou5hprnqmMyz"
      },
      "source": [
        "import csv\n",
        "\n",
        "pholi=[]\n",
        "with open('/content/drive/MyDrive/LexicalRetrieval-2021/networks-data/EdgeLists/PhonologicalSimilaritiesMST.txt') as file:\n",
        "    edgeread = csv.reader(file, delimiter='\\t')\n",
        "    for entries in edgeread:\n",
        "      pholi.append(entries)\n",
        "\n",
        "freea=[]\n",
        "with open('/content/drive/MyDrive/LexicalRetrieval-2021/networks-data/EdgeLists/FreeAssociationsMST.txt') as file:\n",
        "    edgeread = csv.reader(file, delimiter='\\t')\n",
        "    for entries in edgeread:\n",
        "      freea.append(entries)\n"
      ],
      "execution_count": 4,
      "outputs": []
    },
    {
      "cell_type": "code",
      "metadata": {
        "id": "xOHZLYdRN_KP"
      },
      "source": [
        ""
      ],
      "execution_count": null,
      "outputs": []
    },
    {
      "cell_type": "markdown",
      "metadata": {
        "id": "AC5PqqzBvfHF"
      },
      "source": [
        "These are the first 10 edges of the phonological layer and of the free association layer:"
      ]
    },
    {
      "cell_type": "code",
      "metadata": {
        "colab": {
          "base_uri": "https://localhost:8080/"
        },
        "id": "BFBLGv2wmS9i",
        "outputId": "40094cc5-9fd3-466c-fa17-901bfc8c4f21"
      },
      "source": [
        "pholi[:10]"
      ],
      "execution_count": null,
      "outputs": [
        {
          "output_type": "execute_result",
          "data": {
            "text/plain": [
              "[['1', '2'],\n",
              " ['1', '3'],\n",
              " ['1', '4'],\n",
              " ['1', '5'],\n",
              " ['1', '6'],\n",
              " ['1', '7'],\n",
              " ['1', '8'],\n",
              " ['1', '10'],\n",
              " ['1', '12'],\n",
              " ['1', '13']]"
            ]
          },
          "metadata": {},
          "execution_count": 36
        }
      ]
    },
    {
      "cell_type": "code",
      "metadata": {
        "colab": {
          "base_uri": "https://localhost:8080/"
        },
        "id": "tR107fa8o9DZ",
        "outputId": "fed9a7ce-18c8-4271-c710-c2426b0dc5cb"
      },
      "source": [
        "freea[:10]"
      ],
      "execution_count": null,
      "outputs": [
        {
          "output_type": "execute_result",
          "data": {
            "text/plain": [
              "[['1', 'binary'],\n",
              " ['1', 'scale'],\n",
              " ['2', 'binary'],\n",
              " ['2', 'couple'],\n",
              " ['2', 'l'],\n",
              " ['2', 'PlayStation'],\n",
              " ['2', 'u'],\n",
              " ['2', 'version'],\n",
              " ['2.', 'version'],\n",
              " ['3', 'number']]"
            ]
          },
          "metadata": {},
          "execution_count": 37
        }
      ]
    },
    {
      "cell_type": "markdown",
      "metadata": {
        "id": "GMgHGLFjvuGy"
      },
      "source": [
        "In networkx we can import individual layers as Graph classes, whereas the multiplex network can be a MultiGraph. When we add links coming from different layers, we need to specify an appropriate colour. The multiplex distance becomes the distance in a single layer network where all links of all colours are available."
      ]
    },
    {
      "cell_type": "code",
      "metadata": {
        "id": "W1syr7qilWX4"
      },
      "source": [
        "M1 = nx.Graph()\n",
        "M2 = nx.Graph()\n",
        "M1.add_edges_from(pholi)\n",
        "M2.add_edges_from(freea)\n",
        "M = nx.MultiGraph()\n",
        "M.add_edges_from(pholi, color=\"red\")\n",
        "M.add_edges_from(freea, color=\"blue\");"
      ],
      "execution_count": 5,
      "outputs": []
    },
    {
      "cell_type": "code",
      "metadata": {
        "colab": {
          "base_uri": "https://localhost:8080/"
        },
        "id": "GjIYz5enpXqE",
        "outputId": "6baffb19-da9e-4484-b535-e1b3a4364f8c"
      },
      "source": [
        "len(list(M1.edges()))"
      ],
      "execution_count": null,
      "outputs": [
        {
          "output_type": "execute_result",
          "data": {
            "text/plain": [
              "14225"
            ]
          },
          "metadata": {},
          "execution_count": 43
        }
      ]
    },
    {
      "cell_type": "code",
      "metadata": {
        "colab": {
          "base_uri": "https://localhost:8080/"
        },
        "id": "2yGM6uDkphGm",
        "outputId": "12c54d23-f42c-4819-bb63-b8d3e8fe0ad5"
      },
      "source": [
        "len(list(M2.edges()))"
      ],
      "execution_count": null,
      "outputs": [
        {
          "output_type": "execute_result",
          "data": {
            "text/plain": [
              "28533"
            ]
          },
          "metadata": {},
          "execution_count": 44
        }
      ]
    },
    {
      "cell_type": "code",
      "metadata": {
        "colab": {
          "base_uri": "https://localhost:8080/"
        },
        "id": "NYditu98pmu0",
        "outputId": "cc69ba87-a688-4244-f02e-cdb7b51295c2"
      },
      "source": [
        "len(list(M.edges()))"
      ],
      "execution_count": null,
      "outputs": [
        {
          "output_type": "execute_result",
          "data": {
            "text/plain": [
              "42758"
            ]
          },
          "metadata": {},
          "execution_count": 45
        }
      ]
    },
    {
      "cell_type": "markdown",
      "metadata": {
        "id": "3WijsB2PwAb-"
      },
      "source": [
        "This file contains information on the targets and cues that are all in the multiplex network. It also includes the same sentence IDs I used for mapping sentences into syntactic networks."
      ]
    },
    {
      "cell_type": "code",
      "metadata": {
        "id": "5sitdmpfpoBO"
      },
      "source": [
        "words=[]\n",
        "with open('/content/drive/MyDrive/LexicalRetrieval-2021/networks-data/EdgeLists/WordsIDsinMultiplex.txt') as file:\n",
        "    edgeread = csv.reader(file, delimiter='\\t')\n",
        "    for entries in edgeread:\n",
        "      words.append(entries)\n"
      ],
      "execution_count": 6,
      "outputs": []
    },
    {
      "cell_type": "code",
      "metadata": {
        "colab": {
          "base_uri": "https://localhost:8080/"
        },
        "id": "UHsJVzQNsADO",
        "outputId": "9945f098-6f36-44c4-af44-be68846a3e7b"
      },
      "source": [
        "words[6]"
      ],
      "execution_count": 7,
      "outputs": [
        {
          "output_type": "execute_result",
          "data": {
            "text/plain": [
              "['14',\n",
              " 'bargain',\n",
              " 'light',\n",
              " 'tariff',\n",
              " 'bark',\n",
              " 'barter',\n",
              " 'True',\n",
              " 'True',\n",
              " 'True',\n",
              " 'True',\n",
              " 'True']"
            ]
          },
          "metadata": {},
          "execution_count": 7
        }
      ]
    },
    {
      "cell_type": "code",
      "metadata": {
        "colab": {
          "base_uri": "https://localhost:8080/"
        },
        "id": "Slnz5NY_PJQx",
        "outputId": "f660f122-f72f-41f0-b16c-74ffe3a8c2e8"
      },
      "source": [
        "len(words)"
      ],
      "execution_count": 7,
      "outputs": [
        {
          "output_type": "execute_result",
          "data": {
            "text/plain": [
              "33"
            ]
          },
          "metadata": {},
          "execution_count": 7
        }
      ]
    },
    {
      "cell_type": "markdown",
      "metadata": {
        "id": "UpVutM_LwNmF"
      },
      "source": [
        "This function imports a syntactic network (my textual forma mentis networks) as extracted from the prompt sentence (for details about how these networks are computed, see Stella, PeerJ Comp. Sci., 2020). In alternative, there are WithStopwords file that are the direct output of TextDependency as implemented in Mathematica (ie. the Stanford Universal Parser)."
      ]
    },
    {
      "cell_type": "code",
      "metadata": {
        "id": "F-k-Lac_sA__"
      },
      "source": [
        "synct=[]\n",
        "with open('FormaMentisNetwork_2.txt') as file:\n",
        "    edgeread = csv.reader(file, delimiter='\\t')\n",
        "    for entries in edgeread:\n",
        "      synct.append(entries)\n"
      ],
      "execution_count": null,
      "outputs": []
    },
    {
      "cell_type": "markdown",
      "metadata": {
        "id": "bHyDxQWcwl47"
      },
      "source": [
        "These are the edges we want to add to the free association layer:"
      ]
    },
    {
      "cell_type": "code",
      "metadata": {
        "colab": {
          "base_uri": "https://localhost:8080/"
        },
        "id": "7HoRLMYzsWbp",
        "outputId": "dfc44e34-6669-4819-ea06-fd09a8a83af6"
      },
      "source": [
        "synct"
      ],
      "execution_count": null,
      "outputs": [
        {
          "output_type": "execute_result",
          "data": {
            "text/plain": [
              "[['formal', 'renounce'], ['formal', 'throne'], ['renounce', 'throne']]"
            ]
          },
          "metadata": {},
          "execution_count": 49
        }
      ]
    },
    {
      "cell_type": "code",
      "metadata": {
        "id": "Bdt1KMfNsXh4"
      },
      "source": [
        "M1Enr = nx.MultiGraph()\n",
        "M2Enr = nx.MultiGraph()\n",
        "M1Enr.add_edges_from(pholi)\n",
        "M2Enr.add_edges_from(freea)\n",
        "M2Enr.add_edges_from(synct);"
      ],
      "execution_count": null,
      "outputs": []
    },
    {
      "cell_type": "markdown",
      "metadata": {
        "id": "xi0DLHe8wr-s"
      },
      "source": [
        "These functions try to compute the shortest network distance on a given network from a target - abandon here - to a source - abdicate here. If there is no path on that layer, a warning flag is produced."
      ]
    },
    {
      "cell_type": "code",
      "metadata": {
        "colab": {
          "base_uri": "https://localhost:8080/"
        },
        "id": "OW_YFLTOsoX_",
        "outputId": "49308b2c-490b-420e-9bce-b48ef225e7c6"
      },
      "source": [
        "try:\n",
        "    n=nx.shortest_path_length(M2Enr,'abandon','abdicate')\n",
        "    print(n)\n",
        "except nx.NetworkXNoPath:\n",
        "    print ('No path')"
      ],
      "execution_count": null,
      "outputs": [
        {
          "output_type": "stream",
          "name": "stdout",
          "text": [
            "7\n"
          ]
        }
      ]
    },
    {
      "cell_type": "code",
      "metadata": {
        "colab": {
          "base_uri": "https://localhost:8080/"
        },
        "id": "FBQNoX98uKLW",
        "outputId": "cf0e1d6d-a04a-470c-8189-6c75f17581e2"
      },
      "source": [
        "try:\n",
        "    n=nx.shortest_path_length(M2,'abandon','abdicate')\n",
        "    print(n)\n",
        "except nx.NetworkXNoPath:\n",
        "    print ('No path')"
      ],
      "execution_count": null,
      "outputs": [
        {
          "output_type": "stream",
          "name": "stdout",
          "text": [
            "7\n"
          ]
        }
      ]
    },
    {
      "cell_type": "code",
      "metadata": {
        "colab": {
          "base_uri": "https://localhost:8080/"
        },
        "id": "uQ400sXluv2S",
        "outputId": "e5360c61-989b-473f-97e2-c6a39e895e0e"
      },
      "source": [
        "try:\n",
        "    n=nx.shortest_path_length(M,'abandon','abdicate')\n",
        "    print(n)\n",
        "except nx.NetworkXNoPath:\n",
        "    print ('No path')"
      ],
      "execution_count": null,
      "outputs": [
        {
          "output_type": "stream",
          "name": "stdout",
          "text": [
            "7\n"
          ]
        }
      ]
    },
    {
      "cell_type": "markdown",
      "metadata": {
        "id": "QJl2OA4Qw4FB"
      },
      "source": [
        "In this case, the shortest distance is the same over the multiplex (M) and also over the original free association layer (M2) and the free association layer enriched by syntactic dependencies (M2Enr)."
      ]
    },
    {
      "cell_type": "code",
      "metadata": {
        "id": "OISf4mQDSc4l"
      },
      "source": [
        "withsynt = []\n",
        "def with_synt():\n",
        "  for i in range(1,len(words)):\n",
        "    synct=[]\n",
        "    pathnm = '/content/drive/MyDrive/LexicalRetrieval-2021/networks-data/EdgeLists/FormaMentisNetwork_' + words[i][0] + '.txt'\n",
        "    with open(pathnm) as file:\n",
        "      edgeread = csv.reader(file, delimiter='\\t')\n",
        "      for entries in edgeread:\n",
        "        synct.append(entries)\n",
        "    M2Enr = nx.MultiGraph()\n",
        "    M2Enr.add_edges_from(freea)\n",
        "    M2Enr.add_edges_from(synct)\n",
        "    try:\n",
        "      n=nx.shortest_path_length(M2Enr,words[i][1],words[i][5])\n",
        "      withsynt.append(n)\n",
        "    except nx.NetworkXNoPath:\n",
        "      withsynt.append('No path')\n",
        "   return withsynt \n"
      ],
      "execution_count": 13,
      "outputs": []
    },
    {
      "cell_type": "code",
      "metadata": {
        "colab": {
          "base_uri": "https://localhost:8080/"
        },
        "id": "iAyINgHbJJPO",
        "outputId": "2bc885f0-3634-4e30-eeeb-cc38f764852a"
      },
      "source": [
        "    synct=[]\n",
        "    pathnm = '/content/drive/MyDrive/LexicalRetrieval-2021/networks-data/EdgeLists/FormaMentisNetwork_' + words[6][0] + '.txt'\n",
        "    with open(pathnm) as file:\n",
        "      edgeread = csv.reader(file, delimiter='\\t')\n",
        "      for entries in edgeread:\n",
        "        synct.append(entries)\n",
        "    M2Enr = nx.MultiGraph()\n",
        "    M2Enr.add_edges_from(freea)\n",
        "    M2Enr.add_edges_from(synct)\n",
        "    nx.shortest_path_length(M2Enr,words[6][1],words[6][5])\n",
        "  "
      ],
      "execution_count": 8,
      "outputs": [
        {
          "output_type": "execute_result",
          "data": {
            "text/plain": [
              "4"
            ]
          },
          "metadata": {},
          "execution_count": 8
        }
      ]
    },
    {
      "cell_type": "code",
      "metadata": {
        "colab": {
          "base_uri": "https://localhost:8080/"
        },
        "id": "jE_vwDFPKEyC",
        "outputId": "cefab6db-fe43-4a87-f21b-061a9b4448f8"
      },
      "source": [
        "len(synct)"
      ],
      "execution_count": 20,
      "outputs": [
        {
          "output_type": "execute_result",
          "data": {
            "text/plain": [
              "13"
            ]
          },
          "metadata": {},
          "execution_count": 20
        }
      ]
    },
    {
      "cell_type": "code",
      "metadata": {
        "colab": {
          "base_uri": "https://localhost:8080/"
        },
        "id": "tFi_Ji9WLUNL",
        "outputId": "99372ea8-c1ab-4b9e-ed6b-7f6c669f24cd"
      },
      "source": [
        "print(words[6][1])\n",
        "print(words[6][5])\n",
        "print(words[6])"
      ],
      "execution_count": 11,
      "outputs": [
        {
          "output_type": "stream",
          "name": "stdout",
          "text": [
            "bargain\n",
            "barter\n",
            "['14', 'bargain', 'light', 'tariff', 'bark', 'barter', 'True', 'True', 'True', 'True', 'True']\n"
          ]
        }
      ]
    },
    {
      "cell_type": "code",
      "metadata": {
        "colab": {
          "base_uri": "https://localhost:8080/"
        },
        "id": "JLWmryD9MLd6",
        "outputId": "1d79d64d-d8bf-4ca7-9e7e-1fc4c0467d1c"
      },
      "source": [
        "len(list(M2Enr.nodes()))"
      ],
      "execution_count": 16,
      "outputs": [
        {
          "output_type": "execute_result",
          "data": {
            "text/plain": [
              "28535"
            ]
          },
          "metadata": {},
          "execution_count": 16
        }
      ]
    },
    {
      "cell_type": "code",
      "metadata": {
        "colab": {
          "base_uri": "https://localhost:8080/"
        },
        "id": "7yqeeQmCMeJr",
        "outputId": "a2aea1f4-a58d-4aa2-b92b-24470cfa6858"
      },
      "source": [
        "len(list(M2.nodes()))"
      ],
      "execution_count": 15,
      "outputs": [
        {
          "output_type": "execute_result",
          "data": {
            "text/plain": [
              "28535"
            ]
          },
          "metadata": {},
          "execution_count": 15
        }
      ]
    },
    {
      "cell_type": "code",
      "metadata": {
        "colab": {
          "base_uri": "https://localhost:8080/"
        },
        "id": "GRiaUZFqMjV2",
        "outputId": "f06a32f3-b5aa-46cd-9045-a42e55bd12f9"
      },
      "source": [
        "len(list(M2Enr.edges()))"
      ],
      "execution_count": 17,
      "outputs": [
        {
          "output_type": "execute_result",
          "data": {
            "text/plain": [
              "28546"
            ]
          },
          "metadata": {},
          "execution_count": 17
        }
      ]
    },
    {
      "cell_type": "code",
      "metadata": {
        "colab": {
          "base_uri": "https://localhost:8080/"
        },
        "id": "tI-2fycQMqG4",
        "outputId": "ef153201-d6ee-472e-862f-6f0e5dba7304"
      },
      "source": [
        "len(list(M2.edges()))"
      ],
      "execution_count": 18,
      "outputs": [
        {
          "output_type": "execute_result",
          "data": {
            "text/plain": [
              "28533"
            ]
          },
          "metadata": {},
          "execution_count": 18
        }
      ]
    },
    {
      "cell_type": "code",
      "metadata": {
        "id": "3CCPMa7BbHdR"
      },
      "source": [
        "with_synt()"
      ],
      "execution_count": 14,
      "outputs": []
    },
    {
      "cell_type": "code",
      "metadata": {
        "colab": {
          "base_uri": "https://localhost:8080/"
        },
        "id": "agxDMVHgb8T_",
        "outputId": "000eaade-2b41-4bf1-9d55-fc6f935ecc4e"
      },
      "source": [
        "withsynt"
      ],
      "execution_count": 15,
      "outputs": [
        {
          "output_type": "execute_result",
          "data": {
            "text/plain": [
              "[7,\n",
              " 7,\n",
              " 8,\n",
              " 7,\n",
              " 1,\n",
              " 4,\n",
              " 5,\n",
              " 8,\n",
              " 5,\n",
              " 6,\n",
              " 6,\n",
              " 7,\n",
              " 4,\n",
              " 6,\n",
              " 7,\n",
              " 8,\n",
              " 8,\n",
              " 6,\n",
              " 8,\n",
              " 6,\n",
              " 8,\n",
              " 8,\n",
              " 4,\n",
              " 4,\n",
              " 6,\n",
              " 6,\n",
              " 6,\n",
              " 7,\n",
              " 7,\n",
              " 7,\n",
              " 6,\n",
              " 2]"
            ]
          },
          "metadata": {},
          "execution_count": 15
        }
      ]
    },
    {
      "cell_type": "code",
      "metadata": {
        "id": "5eoVhTwocHqH"
      },
      "source": [
        "nosynt = []\n",
        "def no_synt():\n",
        "  for i in range(1,len(words)):\n",
        "    try:\n",
        "      n=nx.shortest_path_length(M2,words[i][1],words[i][5])\n",
        "      nosynt.append(n)\n",
        "    except nx.NetworkXNoPath:\n",
        "      nosynt.append('No path')\n",
        "  return nosynt"
      ],
      "execution_count": 16,
      "outputs": []
    },
    {
      "cell_type": "code",
      "metadata": {
        "colab": {
          "base_uri": "https://localhost:8080/"
        },
        "id": "nUGyFK8FdUHg",
        "outputId": "8fe84a30-97d1-4e88-bb5e-f119d6aa9116"
      },
      "source": [
        "no_synt()"
      ],
      "execution_count": 17,
      "outputs": [
        {
          "output_type": "execute_result",
          "data": {
            "text/plain": [
              "[7,\n",
              " 7,\n",
              " 8,\n",
              " 7,\n",
              " 1,\n",
              " 4,\n",
              " 6,\n",
              " 8,\n",
              " 5,\n",
              " 6,\n",
              " 6,\n",
              " 7,\n",
              " 4,\n",
              " 6,\n",
              " 7,\n",
              " 8,\n",
              " 8,\n",
              " 6,\n",
              " 8,\n",
              " 6,\n",
              " 8,\n",
              " 8,\n",
              " 4,\n",
              " 4,\n",
              " 6,\n",
              " 6,\n",
              " 6,\n",
              " 7,\n",
              " 7,\n",
              " 7,\n",
              " 6,\n",
              " 2]"
            ]
          },
          "metadata": {},
          "execution_count": 17
        }
      ]
    },
    {
      "cell_type": "code",
      "metadata": {
        "colab": {
          "base_uri": "https://localhost:8080/"
        },
        "id": "gDwWgk8TdmuQ",
        "outputId": "1836f18f-05b0-44b9-da82-7591d7678e89"
      },
      "source": [
        "diffs = []\n",
        "for x in range(len(nosynt)):\n",
        "  diffs.append(nosynt[x]-withsynt[x])\n",
        "diffs"
      ],
      "execution_count": 19,
      "outputs": [
        {
          "output_type": "execute_result",
          "data": {
            "text/plain": [
              "[0,\n",
              " 0,\n",
              " 0,\n",
              " 0,\n",
              " 0,\n",
              " 0,\n",
              " 1,\n",
              " 0,\n",
              " 0,\n",
              " 0,\n",
              " 0,\n",
              " 0,\n",
              " 0,\n",
              " 0,\n",
              " 0,\n",
              " 0,\n",
              " 0,\n",
              " 0,\n",
              " 0,\n",
              " 0,\n",
              " 0,\n",
              " 0,\n",
              " 0,\n",
              " 0,\n",
              " 0,\n",
              " 0,\n",
              " 0,\n",
              " 0,\n",
              " 0,\n",
              " 0,\n",
              " 0,\n",
              " 0]"
            ]
          },
          "metadata": {},
          "execution_count": 19
        }
      ]
    },
    {
      "cell_type": "markdown",
      "metadata": {
        "id": "yM-4WbNxeW7I"
      },
      "source": [
        "Comparing M2Enr and M2, the paths between the 'both' primes and targets are almost always equal (except in one case where M2Enr had a shorter path by 1)."
      ]
    },
    {
      "cell_type": "code",
      "metadata": {
        "id": "t2hj2LVSNAQe"
      },
      "source": [
        ""
      ],
      "execution_count": null,
      "outputs": []
    },
    {
      "cell_type": "markdown",
      "metadata": {
        "id": "aWoMPxQ2NA2j"
      },
      "source": [
        "1.add histogram of number of edges added by syntactic layer\n",
        "\n",
        "2.try using other phonological layer (compute phonological similarities for all pairs of word nodes, any non-zero values are an edge)\n",
        "\n",
        "3.look at what weighted semantic and phon networks would look like\n",
        "\n",
        "look at number of unique nodes in phon MST\n",
        "\n",
        "look at metrics for weighted shortest paths https://networkx.org/documentation/stable/reference/algorithms/generated/networkx.algorithms.shortest_paths.weighted.dijkstra_path.html\n",
        "\n",
        "if we use distributional representation instead of FreeAssociationMST\n",
        "\n",
        "code to create MST: https://networkx.org/documentation/networkx-1.10/reference/algorithms.mst.html"
      ]
    }
  ]
}